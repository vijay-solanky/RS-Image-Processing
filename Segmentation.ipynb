{
  "nbformat": 4,
  "nbformat_minor": 0,
  "metadata": {
    "colab": {
      "name": "Segmentation.ipynb",
      "provenance": [],
      "toc_visible": true,
      "include_colab_link": true
    },
    "kernelspec": {
      "name": "python3",
      "display_name": "Python 3"
    }
  },
  "cells": [
    {
      "cell_type": "markdown",
      "metadata": {
        "id": "view-in-github",
        "colab_type": "text"
      },
      "source": [
        "<a href=\"https://colab.research.google.com/github/vijay-solanky/RS-Image-Processing/blob/master/Segmentation.ipynb\" target=\"_parent\"><img src=\"https://colab.research.google.com/assets/colab-badge.svg\" alt=\"Open In Colab\"/></a>"
      ]
    },
    {
      "cell_type": "code",
      "metadata": {
        "id": "Jy8v8Ev02FQE",
        "colab_type": "code",
        "colab": {}
      },
      "source": [
        "import os \n",
        "print('hello')"
      ],
      "execution_count": 0,
      "outputs": []
    },
    {
      "cell_type": "code",
      "metadata": {
        "colab_type": "code",
        "outputId": "4580b6bc-83e9-4f62-ccbc-5d93990574af",
        "id": "EtO8-6te5ev-",
        "colab": {
          "base_uri": "https://localhost:8080/",
          "height": 34
        }
      },
      "source": [
        "## Mount your Google Drive here\n",
        "from google.colab import drive\n",
        "drive.mount('/content/drive')\n",
        "\n"
      ],
      "execution_count": 0,
      "outputs": [
        {
          "output_type": "stream",
          "text": [
            "Drive already mounted at /content/drive; to attempt to forcibly remount, call drive.mount(\"/content/drive\", force_remount=True).\n"
          ],
          "name": "stdout"
        }
      ]
    },
    {
      "cell_type": "code",
      "metadata": {
        "id": "wp6GwnlXzCSZ",
        "colab_type": "code",
        "colab": {}
      },
      "source": [
        ""
      ],
      "execution_count": 0,
      "outputs": []
    },
    {
      "cell_type": "code",
      "metadata": {
        "id": "32I2MAFp3ri_",
        "colab_type": "code",
        "colab": {}
      },
      "source": [
        "src_path='/content/drive/My Drive/Colab Notebooks/AOI/S2_Kharif_20181230.tif'\n",
        "src_path1='/content/drive/My Drive/Colab Notebooks/AOI/NIR11.tif'\n",
        "\n",
        "import numpy as np\n",
        "import cv2 as cv\n",
        "from matplotlib import pyplot as plt\n",
        "\n",
        "image = cv.imread(src_path1, cv.IMREAD_LOAD_GDAL)\n",
        "\n",
        "\n",
        "\n",
        "import numpy as np\n",
        "slice1Copy = np.uint8(image)\n",
        "edges = cv.Canny(slice1Copy,100,200)\n",
        "\n",
        "\n",
        "\n",
        "plt.subplot(121),plt.imshow(image,cmap = 'gray')\n",
        "plt.title('Original Image'), plt.xticks([]), plt.yticks([])\n",
        "plt.subplot(122),plt.imshow(edges,cmap = 'gray')\n",
        "plt.title('Edge Image'), plt.xticks([]), plt.yticks([])\n",
        "plt.show()\n",
        "\n",
        "\n",
        "\n",
        "\n",
        "ret, thresh = cv.threshold(slice1Copy,0,255,cv.THRESH_BINARY_INV+cv.THRESH_OTSU)\n",
        "\n",
        "# noise removal\n",
        "kernel = np.ones((3,3),np.uint8)\n",
        "opening = cv.morphologyEx(thresh,cv.MORPH_OPEN,kernel, iterations = 2)\n",
        "\n",
        "# sure background area\n",
        "sure_bg = cv.dilate(opening,kernel,iterations=3)\n",
        "\n",
        "# Finding sure foreground area\n",
        "dist_transform = cv.distanceTransform(opening,cv.DIST_L2,5)\n",
        "ret, sure_fg = cv.threshold(dist_transform,0.7*dist_transform.max(),255,0)\n",
        "\n",
        "# Finding unknown region\n",
        "sure_fg = np.uint8(sure_fg)\n",
        "unknown = cv.subtract(sure_bg,sure_fg)\n",
        "\n",
        "# Marker labelling\n",
        "ret, markers = cv.connectedComponents(sure_fg)\n",
        "\n",
        "# Add one to all labels so that sure background is not 0, but 1\n",
        "markers = markers+1\n",
        "\n",
        "# Now, mark the region of unknown with zero\n",
        "markers[unknown==255] = 0\n",
        "\n",
        "\n",
        "markers = cv.watershed(edges,markers)\n",
        "edges[markers == -1] = [255,0,0]\n",
        "\n",
        "\n",
        "cv.imshow(markers)\n",
        "cv.imshow(edges)\n",
        "\n"
      ],
      "execution_count": 0,
      "outputs": []
    },
    {
      "cell_type": "code",
      "metadata": {
        "id": "4F9pm4dwT1Lg",
        "colab_type": "code",
        "outputId": "bf6a5a87-db13-40dc-d3d9-53746b06a6aa",
        "colab": {
          "base_uri": "https://localhost:8080/",
          "height": 286
        }
      },
      "source": [
        "import numpy as np\n",
        "import cv2 as cv\n",
        "from matplotlib import pyplot as plt\n",
        "from google.colab.patches import cv2_imshow\n",
        "\n",
        "from osgeo import gdal\n",
        "\n",
        "src_path='/content/drive/My Drive/Colab Notebooks/AOI/S2_Kharif_20181230.tif'\n",
        "src_path1='/content/drive/My Drive/Colab Notebooks/AOI/NIR11.tif'\n",
        "\n",
        "\n",
        "g_image = gdal.Open(src_path) # 3 channel rgb image\n",
        "a_image = g_image.ReadAsArray()\n",
        "s_image = np.dstack((a_image[0],a_image[1],a_image[2]))\n",
        "plt.imshow(s_image) # show image in matplotlib (no need for color swap)\n",
        "s_image = cv.cvtColor(s_image,cv.COLOR_RGB2BGR) # colorswap for cv\n",
        "\n",
        "\n",
        "slice1Copy = np.uint8(a_image)\n",
        "edges = cv.Canny(slice1Copy,100,200)\n"
      ],
      "execution_count": 0,
      "outputs": [
        {
          "output_type": "stream",
          "text": [
            "Clipping input data to the valid range for imshow with RGB data ([0..1] for floats or [0..255] for integers).\n"
          ],
          "name": "stderr"
        },
        {
          "output_type": "display_data",
          "data": {
            "image/png": "[encoded data removed]",
            "text/plain": [
              "<Figure size 432x288 with 1 Axes>"
            ]
          },
          "metadata": {
            "tags": []
          }
        }
      ]
    },
    {
      "cell_type": "code",
      "metadata": {
        "id": "l7uf_7_VT07O",
        "colab_type": "code",
        "colab": {}
      },
      "source": [
        ""
      ],
      "execution_count": 0,
      "outputs": []
    }
  ]
}